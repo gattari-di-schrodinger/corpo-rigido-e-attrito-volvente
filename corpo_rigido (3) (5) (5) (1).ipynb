{
 "cells": [
  {
   "cell_type": "code",
   "execution_count": 52,
   "metadata": {},
   "outputs": [],
   "source": [
    "import pandas as pd\n",
    "import numpy as np\n",
    "import matplotlib.pyplot as plt"
   ]
  },
  {
   "cell_type": "code",
   "execution_count": 53,
   "metadata": {},
   "outputs": [],
   "source": [
    "def my_mean(x, w):\n",
    "    return np.sum( x*np.power(w, -2) ) / np.sum( np.power(w, -2) )\n",
    "\n",
    "def my_cov(x, y, w):\n",
    "    return my_mean(x*y, w) - my_mean(x, w)*my_mean(y, w)\n",
    "\n",
    "def my_var(x, w):\n",
    "    return my_cov(x, x, w)"
   ]
  },
  {
   "cell_type": "code",
   "execution_count": 54,
   "metadata": {},
   "outputs": [],
   "source": [
    "def inc_fit(yerr,N,t,t_):\n",
    "    x_m=np.mean(t)\n",
    "    x_var=pow(np.std(t),2)\n",
    "    yerr2=pow(yerr,2)\n",
    "    t__=t_-x_m\n",
    "    err=np.sqrt(yerr2/N+yerr2/(N*np.fabs(x_var))*pow(t__,2))\n",
    "    return err,x_var,x_m"
   ]
  },
  {
   "cell_type": "code",
   "execution_count": 55,
   "metadata": {},
   "outputs": [],
   "source": [
    "def my_fit(x, y, sd_y, verbose=True):\n",
    "    m = my_cov(x, y, sd_y) / my_var(x, sd_y)\n",
    "    var_m = 1 / ( my_var(x, sd_y) * np.sum( np.power(sd_y, -2)) )\n",
    "    c = my_mean(y,sd_y) - my_mean(x,sd_y) * m\n",
    "    var_c = my_mean(x*x, sd_y)  / ( my_var(x, sd_y) * np.sum( np.power(sd_y, -2)))\n",
    "    cov_mc = - my_mean(x, sd_y) / ( my_var(x, sd_y) * np.sum( np.power(sd_y, -2))) \n",
    "   \n",
    "    return m, np.sqrt(var_m), c, np.sqrt(var_c), cov_mc"
   ]
  },
  {
   "cell_type": "code",
   "execution_count": 56,
   "metadata": {},
   "outputs": [],
   "source": [
    "zero_gradi=pd.read_csv('0_gradi.csv',sep=';')  \n",
    "gravita = pd.read_csv('CL.csv',sep=';')\n",
    "tre_gradi=pd.read_csv('3_gradi.csv',sep=';')\n",
    "due_gradi=pd.read_csv('2_gradi.csv',sep=';')\n",
    "due_gradi_a=pd.read_csv('2_gradi_appr.csv',sep=';')\n",
    "cinque_gradi=pd.read_csv('5_gradi.csv',sep=';')\n",
    "sette_gradi=pd.read_csv('7_gradi.csv',sep=';')"
   ]
  },
  {
   "cell_type": "code",
   "execution_count": 57,
   "metadata": {},
   "outputs": [],
   "source": [
    "t0=zero_gradi.iloc[:,0]\n",
    "r0=zero_gradi.iloc[:,1]\n",
    "v0=zero_gradi.iloc[:,2]\n",
    "\n",
    "tg=gravita.iloc[0:8,0]\n",
    "rg=gravita.iloc[0:8,1]\n",
    "vg=gravita.iloc[0:8,2]\n",
    "\n",
    "t3=tre_gradi.iloc[0:35,0]\n",
    "r3=tre_gradi.iloc[0:35,1]\n",
    "v3=tre_gradi.iloc[0:35,2]\n",
    "\n",
    "t2=due_gradi.iloc[0:106,0]\n",
    "r2=due_gradi.iloc[0:106,1]\n",
    "v2=due_gradi.iloc[0:106,2]\n",
    "\n",
    "t2a=due_gradi_a.iloc[0:35,0]\n",
    "r2a=due_gradi_a.iloc[0:35,1]\n",
    "v2a=due_gradi_a.iloc[0:35,2]\n",
    "\n",
    "t5=cinque_gradi.iloc[0:33,0]\n",
    "r5=cinque_gradi.iloc[0:33,1]\n",
    "v5=cinque_gradi.iloc[0:33,2]\n",
    "\n",
    "t7=sette_gradi.iloc[0:28,0]\n",
    "r7=sette_gradi.iloc[0:28,1]\n",
    "v7=sette_gradi.iloc[0:28,2]"
   ]
  },
  {
   "cell_type": "code",
   "execution_count": 58,
   "metadata": {},
   "outputs": [],
   "source": [
    "t0=np.array(t0)\n",
    "r0=np.array(r0)\n",
    "v0=np.array(v0)\n",
    "\n",
    "tg=np.array(tg)\n",
    "rg=np.array(rg)\n",
    "vg=np.array(vg)\n",
    "\n",
    "t3=np.array(t3)\n",
    "r3=np.array(r3)\n",
    "v3=np.array(v3)\n",
    "\n",
    "t2=np.array(t2)\n",
    "r2=np.array(r2)\n",
    "v2=np.array(v2)\n",
    "\n",
    "t2a=np.array(t2a)\n",
    "r2a=np.array(r2a)\n",
    "v2a=np.array(v2a)\n",
    "\n",
    "t5=np.array(t5)\n",
    "r5=np.array(r5)\n",
    "v5=np.array(v5)\n",
    "\n",
    "t7=np.array(t7)\n",
    "r7=np.array(r7)\n",
    "v7=np.array(v7)"
   ]
  },
  {
   "cell_type": "markdown",
   "metadata": {},
   "source": [
    "## VALUTAZIONE INCERTEZZE"
   ]
  },
  {
   "cell_type": "markdown",
   "metadata": {},
   "source": [
    "si considera un'incertezza uguale per tutti gli ri valutata sulla base della precisione dell'autotracker, si è ritenuto opportuno considerare che la misura può essere imprecisa con una deviazione standard su ri pari al raggio della pallina fratto 3 (R palla= 0.015m,R biglia = 0.011m). \n",
    "Si ha quindi:\n",
    ".$v=\\frac{r_{i+1} - r{i}}{t_{i+1}-t_{i}}$ \n",
    "e una deviazione standard data da:\n",
    ".$\\sigma(v) = \\frac{\\sqrt{2}R}{3/30}$"
   ]
  },
  {
   "cell_type": "code",
   "execution_count": 59,
   "metadata": {},
   "outputs": [
    {
     "data": {
      "text/plain": [
       "(10.53151880857621, 0.9812728429688566)"
      ]
     },
     "execution_count": 59,
     "metadata": {},
     "output_type": "execute_result"
    }
   ],
   "source": [
    "raggio_g=0.015\n",
    "raggio_b=0.011\n",
    "vinc_g=raggio_g*np.sqrt(2)/(3/30)\n",
    "vinc=raggio_b*np.sqrt(2)/(3/30)\n",
    "inc_v=[vinc_g,vinc_g,vinc_g,vinc_g,vinc_g,vinc_g,vinc_g,vinc_g]\n",
    "inc_v=np.array(inc_v)\n",
    "m,sig_m,c,sig_c,cov_mc=my_fit(tg,vg,inc_v)\n",
    "t_=np.linspace(0.13,0.37,50)\n",
    "a,k,b=inc_fit(vinc_g,8,tg,t_)\n",
    "m,sig_m"
   ]
  },
  {
   "cell_type": "code",
   "execution_count": 60,
   "metadata": {},
   "outputs": [
    {
     "data": {
      "text/plain": [
       "<matplotlib.legend.Legend at 0x7effa53a9450>"
      ]
     },
     "execution_count": 60,
     "metadata": {},
     "output_type": "execute_result"
    },
    {
     "data": {
      "image/png": "[encoded data removed]",
      "text/plain": [
       "<Figure size 432x288 with 1 Axes>"
      ]
     },
     "metadata": {
      "needs_background": "light"
     },
     "output_type": "display_data"
    }
   ],
   "source": [
    "plt.errorbar(tg,vg,inc_v,color='green',marker='o',ms=3,label='v(t)')\n",
    "plt.xlabel('t in s',fontsize=13)\n",
    "plt.ylabel('v(t) in m/s',fontsize=13)\n",
    "plt.title('velocità in caduta libera',fontsize=16)\n",
    "plt.ylim(1.4,5)\n",
    "v_=m*t_+c\n",
    "v_sup=m*t_+c+a\n",
    "v_inf=m*t_+c-a\n",
    "plt.plot(t_,v_,color='red',label='retta del fit')\n",
    "plt.plot(t_,v_sup,'-.','orange')\n",
    "plt.plot(t_,v_inf,'-.','orange')\n",
    "plt.xlim(0.12,0.38)\n",
    "plt.legend()"
   ]
  },
  {
   "cell_type": "markdown",
   "metadata": {},
   "source": [
    "### studio caso a zero gradi"
   ]
  },
  {
   "cell_type": "code",
   "execution_count": 61,
   "metadata": {},
   "outputs": [],
   "source": [
    "inc_v0=[vinc,vinc,vinc,vinc,vinc,vinc,vinc,vinc,vinc,vinc,vinc,vinc,vinc,vinc,vinc,vinc,vinc,vinc,vinc,vinc,vinc,vinc,vinc,vinc,vinc,vinc,vinc,vinc,vinc,vinc,vinc,vinc,vinc,vinc,vinc,vinc,vinc,vinc,vinc,vinc,vinc,vinc,vinc,vinc,vinc,vinc,vinc,vinc,vinc,vinc,vinc,vinc,vinc,vinc,vinc,vinc,vinc,vinc,vinc,vinc,vinc,vinc,vinc,vinc,vinc,vinc,vinc,vinc,vinc,vinc,vinc,vinc]\n",
    "inc_v0=np.array(inc_v0)\n",
    "acc_0,sig_acc_0,c_acc_0,sig_c_acc_0,cov_acc_0=my_fit(t0,v0,inc_v0)"
   ]
  },
  {
   "cell_type": "code",
   "execution_count": null,
   "metadata": {},
   "outputs": [],
   "source": []
  },
  {
   "cell_type": "markdown",
   "metadata": {},
   "source": [
    "### calcolo di $\\delta$ a zero gradi"
   ]
  },
  {
   "cell_type": "code",
   "execution_count": 75,
   "metadata": {},
   "outputs": [],
   "source": [
    "R=0.0125\n",
    "g=9.81\n",
    "delta=-7/5*acc_0*R/g\n",
    "sig_delta=7/5*sig_acc_0*R/g"
   ]
  },
  {
   "cell_type": "code",
   "execution_count": 76,
   "metadata": {},
   "outputs": [
    {
     "data": {
      "text/plain": [
       "(0.00015562606308970362, 4.441715943314248e-05)"
      ]
     },
     "execution_count": 76,
     "metadata": {},
     "output_type": "execute_result"
    }
   ],
   "source": [
    "delta,sig_delta"
   ]
  },
  {
   "cell_type": "markdown",
   "metadata": {},
   "source": [
    "### super fit lineare del fit lineare"
   ]
  },
  {
   "cell_type": "code",
   "execution_count": 77,
   "metadata": {},
   "outputs": [],
   "source": [
    "inc_v3=[vinc,vinc,vinc,vinc,vinc,vinc,vinc,vinc,vinc,vinc,vinc,vinc,vinc,vinc,vinc,vinc,vinc,vinc,vinc,vinc,vinc,vinc,vinc,vinc,vinc,vinc,vinc,vinc,vinc,vinc,vinc,vinc,vinc,vinc,vinc]\n",
    "inc_v3=np.array(inc_v3)\n",
    "acc_3,sig_acc_3,c_acc_3,sig_c_acc_3,cov_acc_3=my_fit(t3,v3,inc_v3)"
   ]
  },
  {
   "cell_type": "code",
   "execution_count": 78,
   "metadata": {},
   "outputs": [],
   "source": [
    "inc_v2=[vinc,vinc,vinc,vinc,vinc,vinc,vinc,vinc,vinc,vinc,vinc,vinc,vinc,vinc,vinc,vinc,vinc,vinc,vinc,vinc,vinc,vinc,vinc,vinc,vinc,vinc,vinc,vinc,vinc,vinc,vinc,vinc,vinc,vinc,vinc,vinc,vinc,vinc,vinc,vinc,vinc,vinc,vinc,vinc,vinc,vinc,vinc,vinc,vinc,vinc,vinc,vinc,vinc,vinc,vinc,vinc,vinc,vinc,vinc,vinc,vinc,vinc,vinc,vinc,vinc,vinc,vinc,vinc,vinc,vinc,vinc,vinc,vinc,vinc,vinc,vinc,vinc,vinc,vinc,vinc,vinc,vinc,vinc,vinc,vinc,vinc,vinc,vinc,vinc,vinc,vinc,vinc,vinc,vinc,vinc,vinc,vinc,vinc,vinc,vinc,vinc,vinc,vinc,vinc,vinc,vinc]\n",
    "inc_v2=np.array(inc_v2)\n",
    "acc_2,sig_acc_2,c_acc_2,sig_c_acc_2,cov_acc_2=my_fit(t2,v2,inc_v2)"
   ]
  },
  {
   "cell_type": "code",
   "execution_count": 79,
   "metadata": {},
   "outputs": [],
   "source": [
    "inc_v2a=[vinc,vinc,vinc,vinc,vinc,vinc,vinc,vinc,vinc,vinc,vinc,vinc,vinc,vinc,vinc,vinc,vinc,vinc,vinc,vinc,vinc,vinc,vinc,vinc,vinc,vinc,vinc,vinc,vinc,vinc,vinc,vinc,vinc,vinc,vinc]\n",
    "inc_v2a=np.array(inc_v2a)\n",
    "acc_2a,sig_acc_2a,c_acc_2a,sig_c_acc_2a,cov_acc_2a=my_fit(t2a,v2a,inc_v2a)"
   ]
  },
  {
   "cell_type": "code",
   "execution_count": 80,
   "metadata": {},
   "outputs": [],
   "source": [
    "inc_v5=[vinc,vinc,vinc,vinc,vinc,vinc,vinc,vinc,vinc,vinc,vinc,vinc,vinc,vinc,vinc,vinc,vinc,vinc,vinc,vinc,vinc,vinc,vinc,vinc,vinc,vinc,vinc,vinc,vinc,vinc,vinc,vinc,vinc]\n",
    "inc_v5=np.array(inc_v5)\n",
    "acc_5,sig_acc_5,c_acc_5,sig_c_acc_5,cov_acc_5=my_fit(t5,v5,inc_v5)"
   ]
  },
  {
   "cell_type": "code",
   "execution_count": 81,
   "metadata": {},
   "outputs": [],
   "source": [
    "inc_v7=[vinc,vinc,vinc,vinc,vinc,vinc,vinc,vinc,vinc,vinc,vinc,vinc,vinc,vinc,vinc,vinc,vinc,vinc,vinc,vinc,vinc,vinc,vinc,vinc,vinc,vinc,vinc,vinc]\n",
    "inc_v7=np.array(inc_v7)\n",
    "acc_7,sig_acc_7,c_acc_7,sig_c_acc_7,cov_acc_7=my_fit(t7,v7,inc_v7)"
   ]
  },
  {
   "cell_type": "code",
   "execution_count": 82,
   "metadata": {},
   "outputs": [],
   "source": [
    "theta=[0.0523,0.0873,0.1222]\n",
    "acc=[acc_3,acc_5,acc_7]\n",
    "sig_acc=[sig_acc_3,sig_acc_5,sig_acc_7]\n",
    "theta=np.array(theta)\n",
    "acc=np.array(acc)\n",
    "sig_acc=np.array(sig_acc)"
   ]
  },
  {
   "cell_type": "code",
   "execution_count": 87,
   "metadata": {},
   "outputs": [
    {
     "data": {
      "text/plain": [
       "<matplotlib.legend.Legend at 0x7effa52e06d0>"
      ]
     },
     "execution_count": 87,
     "metadata": {},
     "output_type": "execute_result"
    },
    {
     "data": {
      "image/png": "[encoded data removed]",
      "text/plain": [
       "<Figure size 432x288 with 1 Axes>"
      ]
     },
     "metadata": {
      "needs_background": "light"
     },
     "output_type": "display_data"
    }
   ],
   "source": [
    "coeff,sig_coeff,cost,sig_cost,cov_tot=my_fit(theta,acc,sig_acc)\n",
    "x=np.linspace(0.05,0.127,10)\n",
    "y=coeff*x+cost\n",
    "a,k,b=inc_fit(vinc,3,theta,x)\n",
    "y_sup=y+a\n",
    "y_inf=y-a\n",
    "plt.errorbar(theta,acc,sig_acc,color='green',label='a(theta)')\n",
    "plt.plot(x,y,'red',label='risultato fit')\n",
    "plt.plot(x,y_sup,'-.',color='orange')\n",
    "plt.plot(x,y_inf,'-.',color='orange')\n",
    "plt.title('fit lineare accelerazione in funzione di theta',fontsize=15)\n",
    "plt.ylabel('accelerazione in m/s^2',fontsize=14)\n",
    "plt.xlabel('angolo theta in radianti',fontsize=14)\n",
    "plt.legend()"
   ]
  },
  {
   "cell_type": "code",
   "execution_count": 88,
   "metadata": {},
   "outputs": [],
   "source": [
    "coeff,sig_coeff,cost,sig_cost,cov_tot=my_fit(theta,acc,sig_acc)"
   ]
  },
  {
   "cell_type": "code",
   "execution_count": null,
   "metadata": {},
   "outputs": [],
   "source": []
  },
  {
   "cell_type": "markdown",
   "metadata": {},
   "source": [
    "### stima di $\\delta$ e I0 dal coeff. angolare e dalla costante"
   ]
  },
  {
   "cell_type": "code",
   "execution_count": 89,
   "metadata": {},
   "outputs": [],
   "source": [
    "m=0.013\n",
    "R=0.011\n",
    "g=9.80\n",
    "I0=m*pow(R,2)*(g/coeff-1)\n",
    "I0_teo=2/5*m*pow(R,2)\n",
    "sig_I0=m*R*R*g/pow(coeff,2)*sig_coeff"
   ]
  },
  {
   "cell_type": "code",
   "execution_count": 90,
   "metadata": {},
   "outputs": [
    {
     "data": {
      "text/plain": [
       "(5.505099131838422e-07, 6.291999999999999e-07, 5.131749107274863e-07)"
      ]
     },
     "execution_count": 90,
     "metadata": {},
     "output_type": "execute_result"
    }
   ],
   "source": [
    "I0,I0_teo,sig_I0"
   ]
  },
  {
   "cell_type": "code",
   "execution_count": 91,
   "metadata": {},
   "outputs": [],
   "source": [
    "delta_fit=-cost/g*(R+I0/(m*R))\n",
    "sig_delta_fit=np.sqrt(pow((R/g+I0/(m*R)),2)*pow(sig_cost,2) + pow(cost/(g*m*R),2)*pow(sig_I0,2))"
   ]
  },
  {
   "cell_type": "code",
   "execution_count": 92,
   "metadata": {},
   "outputs": [
    {
     "data": {
      "text/plain": [
       "(0.0007125133129480886, 0.00014342051667774245)"
      ]
     },
     "execution_count": 92,
     "metadata": {},
     "output_type": "execute_result"
    }
   ],
   "source": [
    "sig_delta_fit,delta_fit"
   ]
  },
  {
   "cell_type": "code",
   "execution_count": null,
   "metadata": {},
   "outputs": [],
   "source": []
  },
  {
   "cell_type": "code",
   "execution_count": 93,
   "metadata": {},
   "outputs": [],
   "source": [
    "g_fit=7/5*coeff"
   ]
  },
  {
   "cell_type": "code",
   "execution_count": 94,
   "metadata": {},
   "outputs": [],
   "source": [
    "sig_g_fit=7/5*sig_coeff"
   ]
  },
  {
   "cell_type": "code",
   "execution_count": 95,
   "metadata": {},
   "outputs": [
    {
     "data": {
      "text/plain": [
       "(10.163154815529973, 2.456063912293913)"
      ]
     },
     "execution_count": 95,
     "metadata": {},
     "output_type": "execute_result"
    }
   ],
   "source": [
    "g_fit,sig_g_fit"
   ]
  },
  {
   "cell_type": "code",
   "execution_count": null,
   "metadata": {},
   "outputs": [],
   "source": []
  },
  {
   "cell_type": "code",
   "execution_count": null,
   "metadata": {},
   "outputs": [],
   "source": []
  },
  {
   "cell_type": "code",
   "execution_count": null,
   "metadata": {},
   "outputs": [],
   "source": []
  }
 ],
 "metadata": {
  "kernelspec": {
   "display_name": "Python 3",
   "language": "python",
   "name": "python3"
  },
  "language_info": {
   "codemirror_mode": {
    "name": "ipython",
    "version": 3
   },
   "file_extension": ".py",
   "mimetype": "text/x-python",
   "name": "python",
   "nbconvert_exporter": "python",
   "pygments_lexer": "ipython3",
   "version": "3.7.6"
  }
 },
 "nbformat": 4,
 "nbformat_minor": 4
}
